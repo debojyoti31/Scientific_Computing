{
 "cells": [
  {
   "cell_type": "markdown",
   "metadata": {},
   "source": [
    "**find the roots x^(2)+xy+y^(2)=7, x^(3)+y^(3)=9 through N-R methods.**"
   ]
  },
  {
   "cell_type": "markdown",
   "metadata": {},
   "source": [
    "**1. Use autograd for jacobian**"
   ]
  },
  {
   "cell_type": "code",
   "execution_count": 15,
   "metadata": {},
   "outputs": [],
   "source": [
    "import autograd as ag\n",
    "from autograd import jacobian\n",
    "import autograd.numpy as np\n",
    "import matplotlib\n",
    "import matplotlib.pyplot as plt"
   ]
  },
  {
   "cell_type": "markdown",
   "metadata": {},
   "source": [
    "**2. Describe the functions** *(edit this for different problems)*"
   ]
  },
  {
   "cell_type": "code",
   "execution_count": 16,
   "metadata": {},
   "outputs": [],
   "source": [
    "m = 2         # no. of equiations\n",
    "n = 2         # no. of variables\n",
    "\n",
    "# define the functions\n",
    "f1 = lambda x: (x[0]**2) + (x[0]*x[1]) + (x[1]**2) - 7\n",
    "f2 = lambda x: (x[0]**3) + (x[1]**3) - 9\n",
    "\n",
    "# define the initial guesses\n",
    "x0 = np.array([0.5,1.5], dtype = float).reshape(n,1)\n",
    "\n",
    "list_x = [x0[0]]\n",
    "list_y = [x0[1]]"
   ]
  },
  {
   "cell_type": "markdown",
   "metadata": {},
   "source": [
    "**3. Defining jacobian functions**"
   ]
  },
  {
   "cell_type": "code",
   "execution_count": 17,
   "metadata": {},
   "outputs": [],
   "source": [
    "j1 = jacobian(f1)\n",
    "j2 = jacobian(f2)"
   ]
  },
  {
   "cell_type": "markdown",
   "metadata": {},
   "source": [
    "**3. The N-R method for multivariables**   *(edit 'F' and 'jac' for different problems)*"
   ]
  },
  {
   "cell_type": "code",
   "execution_count": 18,
   "metadata": {},
   "outputs": [
    {
     "name": "stdout",
     "output_type": "stream",
     "text": [
      "\n",
      " iteration  -   0\n",
      "error at 0 -th iteration -- \n",
      " [[0.4254386 ]\n",
      " [0.76754386]]\n",
      "jacobian -- \n",
      " [[2.5  3.5 ]\n",
      " [0.75 6.75]]\n",
      "F -- \n",
      " [[-3.75]\n",
      " [-5.5 ]]\n",
      "___________________\n",
      "\n",
      " iteration  -   1\n",
      "error at 1 -th iteration -- \n",
      " [[ 0.0390309 ]\n",
      " [-0.23027269]]\n",
      "jacobian -- \n",
      " [[ 4.11842105  5.46052632]\n",
      " [ 2.56930979 15.42526547]]\n",
      "F -- \n",
      " [[1.09666436]\n",
      " [3.45173481]]\n",
      "___________________\n",
      "\n",
      " iteration  -   2\n",
      "error at 2 -th iteration -- \n",
      " [[ 0.03426712]\n",
      " [-0.03601336]]\n",
      "jacobian -- \n",
      " [[ 3.96621018  5.03901185]\n",
      " [ 2.79060425 12.45142152]]\n",
      "F -- \n",
      " [[0.04556117]\n",
      " [0.35279161]]\n",
      "___________________\n",
      "\n",
      " iteration  -   3\n",
      "error at 3 -th iteration -- \n",
      " [[ 0.0012618 ]\n",
      " [-0.00125623]]\n",
      "jacobian -- \n",
      " [[ 3.99873105  5.00125224]\n",
      " [ 2.99242451 12.01509847]]\n",
      "F -- \n",
      " [[0.00123712]\n",
      " [0.01131787]]\n",
      "___________________\n",
      "\n",
      " iteration  -   4\n",
      "error at 4 -th iteration -- \n",
      " [[ 1.58191377e-06]\n",
      " [-1.58255708e-06]]\n",
      "jacobian -- \n",
      " [[ 3.99999842  5.00000158]\n",
      " [ 2.99999051 12.00001899]]\n",
      "F -- \n",
      " [[1.58513529e-06]\n",
      " [1.42449887e-05]]\n",
      "___________________\n",
      "\n",
      " iteration  -   5\n",
      "error at 5 -th iteration -- \n",
      " [[ 2.50399701e-12]\n",
      " [-2.50377497e-12]]\n",
      "jacobian -- \n",
      " [[ 4.  5.]\n",
      " [ 3. 12.]]\n",
      "F -- \n",
      " [[2.50288679e-12]\n",
      " [2.25330865e-11]]\n",
      "___________________\n",
      "\n",
      " iteration  -   6\n",
      "error at 6 -th iteration -- \n",
      " [[0.]\n",
      " [0.]]\n",
      "jacobian -- \n",
      " [[ 4.  5.]\n",
      " [ 3. 12.]]\n",
      "F -- \n",
      " [[0.]\n",
      " [0.]]\n",
      "___________________\n",
      "\n",
      " prediction after 7 iterations -- \n",
      " [[1.]\n",
      " [2.]]\n",
      "\n",
      " checking with predicted values--\n",
      "f1  =   [0.]\n",
      "f2  =   [0.]\n"
     ]
    }
   ],
   "source": [
    "iter = 20       # set no of iterations\n",
    "e = 0.001       # set error\n",
    "\n",
    "i  = 0\n",
    "\n",
    "while i < iter:\n",
    "  \n",
    "  # edit this for different problems\n",
    "  F = np.array([f1(x0),f2(x0)]).reshape(m,1)\n",
    "  \n",
    "  flat_x0 = x0.flatten()\n",
    "  \n",
    "  # edit this for different problems\n",
    "  jac = np.array([j1(flat_x0),j2(flat_x0)]).reshape(n,m)\n",
    "\n",
    "\n",
    "  xn = x0 - np.linalg.inv(jac)@F          # n-th prediction\n",
    "\n",
    "  error = xn - x0\n",
    "\n",
    "  x0 = xn\n",
    "  \n",
    "  list_x.append(x0[0])\n",
    "  list_y.append(x0[1])\n",
    "\n",
    "  print('\\n iteration  -  ', i)\n",
    "  print('error at',i,'-th iteration -- \\n', error )\n",
    "  print ('jacobian -- \\n', jac)\n",
    "  print ('F -- \\n', F)\n",
    "  print('___________________')\n",
    "\n",
    "  i = i+1\n",
    "  if error.all() < e:\n",
    "    break\n",
    "\n",
    "print('\\n prediction after', i, 'iterations -- \\n', xn)\n",
    "print('\\n checking with predicted values--')\n",
    "print(\"f1  =  \", np.around(f1(xn),3))\n",
    "print(\"f2  =  \", np.around(f2(xn),3))"
   ]
  },
  {
   "cell_type": "markdown",
   "metadata": {},
   "source": [
    "**Plot Graph**"
   ]
  },
  {
   "cell_type": "code",
   "execution_count": 19,
   "metadata": {},
   "outputs": [
    {
     "data": {
      "image/png": "[encoded data removed]",
      "text/plain": [
       "<Figure size 432x288 with 1 Axes>"
      ]
     },
     "metadata": {
      "needs_background": "light"
     },
     "output_type": "display_data"
    }
   ],
   "source": [
    "plt.plot(list_x,list_y)\n",
    "plt.show()"
   ]
  }
 ],
 "metadata": {
  "kernelspec": {
   "display_name": "DTS_VE",
   "language": "python",
   "name": "dts_ve"
  },
  "language_info": {
   "codemirror_mode": {
    "name": "ipython",
    "version": 3
   },
   "file_extension": ".py",
   "mimetype": "text/x-python",
   "name": "python",
   "nbconvert_exporter": "python",
   "pygments_lexer": "ipython3",
   "version": "3.10.4"
  },
  "orig_nbformat": 4,
  "vscode": {
   "interpreter": {
    "hash": "916dbcbb3f70747c44a77c7bcd40155683ae19c65e1c03b4aa3499c5328201f1"
   }
  }
 },
 "nbformat": 4,
 "nbformat_minor": 2
}
